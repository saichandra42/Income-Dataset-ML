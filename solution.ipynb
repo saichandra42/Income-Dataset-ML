{
  "cells": [
    {
      "cell_type": "markdown",
      "metadata": {
        "id": "view-in-github",
        "colab_type": "text"
      },
      "source": [
        "<a href=\"https://colab.research.google.com/github/saichandra42/ML_Assignment3/blob/main/solution.ipynb\" target=\"_parent\"><img src=\"https://colab.research.google.com/assets/colab-badge.svg\" alt=\"Open In Colab\"/></a>"
      ]
    },
    {
      "cell_type": "markdown",
      "id": "c577ea98",
      "metadata": {
        "id": "c577ea98"
      },
      "source": [
        "# Imports"
      ]
    },
    {
      "cell_type": "code",
      "execution_count": null,
      "id": "fa1e68f2",
      "metadata": {
        "id": "fa1e68f2"
      },
      "outputs": [],
      "source": [
        "import pandas as pd\n",
        "import numpy as np\n",
        "import seaborn as sns\n",
        "import matplotlib.pyplot as plt\n",
        "import warnings\n",
        "warnings.filterwarnings(\"ignore\")\n",
        "\n",
        "from sklearn.preprocessing import LabelEncoder\n",
        "from sklearn.model_selection import train_test_split\n",
        "\n",
        "STATE = 10"
      ]
    },
    {
      "cell_type": "markdown",
      "id": "caac2cfa",
      "metadata": {
        "id": "caac2cfa"
      },
      "source": [
        "# EDA "
      ]
    },
    {
      "cell_type": "code",
      "execution_count": null,
      "id": "b27ed643",
      "metadata": {
        "id": "b27ed643"
      },
      "outputs": [],
      "source": [
        "data = pd.read_csv('income_dataset.csv')"
      ]
    },
    {
      "cell_type": "code",
      "execution_count": null,
      "id": "6aac8963",
      "metadata": {
        "id": "6aac8963",
        "outputId": "5046cbe9-24b8-4208-b8c8-e931e7b52020"
      },
      "outputs": [
        {
          "data": {
            "text/html": [
              "<div>\n",
              "<style scoped>\n",
              "    .dataframe tbody tr th:only-of-type {\n",
              "        vertical-align: middle;\n",
              "    }\n",
              "\n",
              "    .dataframe tbody tr th {\n",
              "        vertical-align: top;\n",
              "    }\n",
              "\n",
              "    .dataframe thead th {\n",
              "        text-align: right;\n",
              "    }\n",
              "</style>\n",
              "<table border=\"1\" class=\"dataframe\">\n",
              "  <thead>\n",
              "    <tr style=\"text-align: right;\">\n",
              "      <th></th>\n",
              "      <th>age</th>\n",
              "      <th>fnlwgt</th>\n",
              "      <th>education.num</th>\n",
              "      <th>capital.gain</th>\n",
              "      <th>capital.loss</th>\n",
              "      <th>hours.per.week</th>\n",
              "    </tr>\n",
              "  </thead>\n",
              "  <tbody>\n",
              "    <tr>\n",
              "      <th>count</th>\n",
              "      <td>32561.000000</td>\n",
              "      <td>3.256100e+04</td>\n",
              "      <td>32561.000000</td>\n",
              "      <td>32561.000000</td>\n",
              "      <td>32561.000000</td>\n",
              "      <td>32561.000000</td>\n",
              "    </tr>\n",
              "    <tr>\n",
              "      <th>mean</th>\n",
              "      <td>38.581647</td>\n",
              "      <td>1.897784e+05</td>\n",
              "      <td>10.080679</td>\n",
              "      <td>1077.648844</td>\n",
              "      <td>87.303830</td>\n",
              "      <td>40.437456</td>\n",
              "    </tr>\n",
              "    <tr>\n",
              "      <th>std</th>\n",
              "      <td>13.640433</td>\n",
              "      <td>1.055500e+05</td>\n",
              "      <td>2.572720</td>\n",
              "      <td>7385.292085</td>\n",
              "      <td>402.960219</td>\n",
              "      <td>12.347429</td>\n",
              "    </tr>\n",
              "    <tr>\n",
              "      <th>min</th>\n",
              "      <td>17.000000</td>\n",
              "      <td>1.228500e+04</td>\n",
              "      <td>1.000000</td>\n",
              "      <td>0.000000</td>\n",
              "      <td>0.000000</td>\n",
              "      <td>1.000000</td>\n",
              "    </tr>\n",
              "    <tr>\n",
              "      <th>25%</th>\n",
              "      <td>28.000000</td>\n",
              "      <td>1.178270e+05</td>\n",
              "      <td>9.000000</td>\n",
              "      <td>0.000000</td>\n",
              "      <td>0.000000</td>\n",
              "      <td>40.000000</td>\n",
              "    </tr>\n",
              "    <tr>\n",
              "      <th>50%</th>\n",
              "      <td>37.000000</td>\n",
              "      <td>1.783560e+05</td>\n",
              "      <td>10.000000</td>\n",
              "      <td>0.000000</td>\n",
              "      <td>0.000000</td>\n",
              "      <td>40.000000</td>\n",
              "    </tr>\n",
              "    <tr>\n",
              "      <th>75%</th>\n",
              "      <td>48.000000</td>\n",
              "      <td>2.370510e+05</td>\n",
              "      <td>12.000000</td>\n",
              "      <td>0.000000</td>\n",
              "      <td>0.000000</td>\n",
              "      <td>45.000000</td>\n",
              "    </tr>\n",
              "    <tr>\n",
              "      <th>max</th>\n",
              "      <td>90.000000</td>\n",
              "      <td>1.484705e+06</td>\n",
              "      <td>16.000000</td>\n",
              "      <td>99999.000000</td>\n",
              "      <td>4356.000000</td>\n",
              "      <td>99.000000</td>\n",
              "    </tr>\n",
              "  </tbody>\n",
              "</table>\n",
              "</div>"
            ],
            "text/plain": [
              "                age        fnlwgt  education.num  capital.gain  capital.loss  \\\n",
              "count  32561.000000  3.256100e+04   32561.000000  32561.000000  32561.000000   \n",
              "mean      38.581647  1.897784e+05      10.080679   1077.648844     87.303830   \n",
              "std       13.640433  1.055500e+05       2.572720   7385.292085    402.960219   \n",
              "min       17.000000  1.228500e+04       1.000000      0.000000      0.000000   \n",
              "25%       28.000000  1.178270e+05       9.000000      0.000000      0.000000   \n",
              "50%       37.000000  1.783560e+05      10.000000      0.000000      0.000000   \n",
              "75%       48.000000  2.370510e+05      12.000000      0.000000      0.000000   \n",
              "max       90.000000  1.484705e+06      16.000000  99999.000000   4356.000000   \n",
              "\n",
              "       hours.per.week  \n",
              "count    32561.000000  \n",
              "mean        40.437456  \n",
              "std         12.347429  \n",
              "min          1.000000  \n",
              "25%         40.000000  \n",
              "50%         40.000000  \n",
              "75%         45.000000  \n",
              "max         99.000000  "
            ]
          },
          "execution_count": 3,
          "metadata": {},
          "output_type": "execute_result"
        }
      ],
      "source": [
        "data.describe()"
      ]
    },
    {
      "cell_type": "code",
      "execution_count": null,
      "id": "3430c47c",
      "metadata": {
        "scrolled": true,
        "id": "3430c47c",
        "outputId": "16dc4762-1d46-49a8-e3ce-1bb7c34c2c80"
      },
      "outputs": [
        {
          "data": {
            "text/html": [
              "<div>\n",
              "<style scoped>\n",
              "    .dataframe tbody tr th:only-of-type {\n",
              "        vertical-align: middle;\n",
              "    }\n",
              "\n",
              "    .dataframe tbody tr th {\n",
              "        vertical-align: top;\n",
              "    }\n",
              "\n",
              "    .dataframe thead th {\n",
              "        text-align: right;\n",
              "    }\n",
              "</style>\n",
              "<table border=\"1\" class=\"dataframe\">\n",
              "  <thead>\n",
              "    <tr style=\"text-align: right;\">\n",
              "      <th></th>\n",
              "      <th>age</th>\n",
              "      <th>workclass</th>\n",
              "      <th>fnlwgt</th>\n",
              "      <th>education</th>\n",
              "      <th>education.num</th>\n",
              "      <th>marital.status</th>\n",
              "      <th>occupation</th>\n",
              "      <th>relationship</th>\n",
              "      <th>race</th>\n",
              "      <th>sex</th>\n",
              "      <th>capital.gain</th>\n",
              "      <th>capital.loss</th>\n",
              "      <th>hours.per.week</th>\n",
              "      <th>native.country</th>\n",
              "      <th>income</th>\n",
              "    </tr>\n",
              "  </thead>\n",
              "  <tbody>\n",
              "    <tr>\n",
              "      <th>0</th>\n",
              "      <td>90</td>\n",
              "      <td>?</td>\n",
              "      <td>77053</td>\n",
              "      <td>HS-grad</td>\n",
              "      <td>9</td>\n",
              "      <td>Widowed</td>\n",
              "      <td>?</td>\n",
              "      <td>Not-in-family</td>\n",
              "      <td>White</td>\n",
              "      <td>Female</td>\n",
              "      <td>0</td>\n",
              "      <td>4356</td>\n",
              "      <td>40</td>\n",
              "      <td>United-States</td>\n",
              "      <td>&lt;=50K</td>\n",
              "    </tr>\n",
              "    <tr>\n",
              "      <th>1</th>\n",
              "      <td>82</td>\n",
              "      <td>Private</td>\n",
              "      <td>132870</td>\n",
              "      <td>HS-grad</td>\n",
              "      <td>9</td>\n",
              "      <td>Widowed</td>\n",
              "      <td>Exec-managerial</td>\n",
              "      <td>Not-in-family</td>\n",
              "      <td>White</td>\n",
              "      <td>Female</td>\n",
              "      <td>0</td>\n",
              "      <td>4356</td>\n",
              "      <td>18</td>\n",
              "      <td>United-States</td>\n",
              "      <td>&lt;=50K</td>\n",
              "    </tr>\n",
              "    <tr>\n",
              "      <th>2</th>\n",
              "      <td>66</td>\n",
              "      <td>?</td>\n",
              "      <td>186061</td>\n",
              "      <td>Some-college</td>\n",
              "      <td>10</td>\n",
              "      <td>Widowed</td>\n",
              "      <td>?</td>\n",
              "      <td>Unmarried</td>\n",
              "      <td>Black</td>\n",
              "      <td>Female</td>\n",
              "      <td>0</td>\n",
              "      <td>4356</td>\n",
              "      <td>40</td>\n",
              "      <td>United-States</td>\n",
              "      <td>&lt;=50K</td>\n",
              "    </tr>\n",
              "    <tr>\n",
              "      <th>3</th>\n",
              "      <td>54</td>\n",
              "      <td>Private</td>\n",
              "      <td>140359</td>\n",
              "      <td>7th-8th</td>\n",
              "      <td>4</td>\n",
              "      <td>Divorced</td>\n",
              "      <td>Machine-op-inspct</td>\n",
              "      <td>Unmarried</td>\n",
              "      <td>White</td>\n",
              "      <td>Female</td>\n",
              "      <td>0</td>\n",
              "      <td>3900</td>\n",
              "      <td>40</td>\n",
              "      <td>United-States</td>\n",
              "      <td>&lt;=50K</td>\n",
              "    </tr>\n",
              "    <tr>\n",
              "      <th>4</th>\n",
              "      <td>41</td>\n",
              "      <td>Private</td>\n",
              "      <td>264663</td>\n",
              "      <td>Some-college</td>\n",
              "      <td>10</td>\n",
              "      <td>Separated</td>\n",
              "      <td>Prof-specialty</td>\n",
              "      <td>Own-child</td>\n",
              "      <td>White</td>\n",
              "      <td>Female</td>\n",
              "      <td>0</td>\n",
              "      <td>3900</td>\n",
              "      <td>40</td>\n",
              "      <td>United-States</td>\n",
              "      <td>&lt;=50K</td>\n",
              "    </tr>\n",
              "  </tbody>\n",
              "</table>\n",
              "</div>"
            ],
            "text/plain": [
              "   age workclass  fnlwgt     education  education.num marital.status  \\\n",
              "0   90         ?   77053       HS-grad              9        Widowed   \n",
              "1   82   Private  132870       HS-grad              9        Widowed   \n",
              "2   66         ?  186061  Some-college             10        Widowed   \n",
              "3   54   Private  140359       7th-8th              4       Divorced   \n",
              "4   41   Private  264663  Some-college             10      Separated   \n",
              "\n",
              "          occupation   relationship   race     sex  capital.gain  \\\n",
              "0                  ?  Not-in-family  White  Female             0   \n",
              "1    Exec-managerial  Not-in-family  White  Female             0   \n",
              "2                  ?      Unmarried  Black  Female             0   \n",
              "3  Machine-op-inspct      Unmarried  White  Female             0   \n",
              "4     Prof-specialty      Own-child  White  Female             0   \n",
              "\n",
              "   capital.loss  hours.per.week native.country income  \n",
              "0          4356              40  United-States  <=50K  \n",
              "1          4356              18  United-States  <=50K  \n",
              "2          4356              40  United-States  <=50K  \n",
              "3          3900              40  United-States  <=50K  \n",
              "4          3900              40  United-States  <=50K  "
            ]
          },
          "execution_count": 4,
          "metadata": {},
          "output_type": "execute_result"
        }
      ],
      "source": [
        "data.head()"
      ]
    },
    {
      "cell_type": "code",
      "execution_count": null,
      "id": "76a42773",
      "metadata": {
        "id": "76a42773"
      },
      "outputs": [],
      "source": [
        "to_rename = {\n",
        "    'education.num':'education_num',\n",
        "    'marital.status': 'marital_status',\n",
        "    'capital.gain': 'capital_gain',\n",
        "    'capital.loss': 'capital_loss',\n",
        "    'hours.per.week': 'hours_per_week',\n",
        "    'native.country': 'country'\n",
        "}\n",
        "data = data.rename(columns=to_rename)"
      ]
    },
    {
      "cell_type": "code",
      "execution_count": null,
      "id": "e60b5918",
      "metadata": {
        "id": "e60b5918",
        "outputId": "f9638813-99a6-40e7-c20f-1d3738288f88"
      },
      "outputs": [
        {
          "data": {
            "text/plain": [
              "(32561, 15)"
            ]
          },
          "execution_count": 6,
          "metadata": {},
          "output_type": "execute_result"
        }
      ],
      "source": [
        "data.shape"
      ]
    },
    {
      "cell_type": "code",
      "execution_count": null,
      "id": "3bc25755",
      "metadata": {
        "id": "3bc25755",
        "outputId": "ef0b1eac-31a2-4c15-b7c2-cea60ed66784"
      },
      "outputs": [
        {
          "data": {
            "text/plain": [
              "0"
            ]
          },
          "execution_count": 7,
          "metadata": {},
          "output_type": "execute_result"
        }
      ],
      "source": [
        "data[data['age'] == '?'].shape[0]"
      ]
    },
    {
      "cell_type": "markdown",
      "id": "6bc0bc01",
      "metadata": {
        "id": "6bc0bc01"
      },
      "source": [
        "# Converting data for learning"
      ]
    },
    {
      "cell_type": "code",
      "execution_count": null,
      "id": "b4be42b7",
      "metadata": {
        "id": "b4be42b7",
        "outputId": "1bb955ab-815a-4129-9f18-6afbfb74aaa8"
      },
      "outputs": [
        {
          "name": "stdout",
          "output_type": "stream",
          "text": [
            "workclass 1836\n",
            "occupation 1843\n",
            "country 583\n"
          ]
        }
      ],
      "source": [
        "for column in data.columns:\n",
        "    to_be_filled_n = data[data[column] == '?'].shape[0]\n",
        "    if to_be_filled_n > 0:\n",
        "        print(column,to_be_filled_n)"
      ]
    },
    {
      "cell_type": "code",
      "execution_count": null,
      "id": "7795f26f",
      "metadata": {
        "id": "7795f26f",
        "outputId": "69fe59a7-1b02-45ca-d9b7-37dc9c537faf"
      },
      "outputs": [
        {
          "data": {
            "text/html": [
              "<div>\n",
              "<style scoped>\n",
              "    .dataframe tbody tr th:only-of-type {\n",
              "        vertical-align: middle;\n",
              "    }\n",
              "\n",
              "    .dataframe tbody tr th {\n",
              "        vertical-align: top;\n",
              "    }\n",
              "\n",
              "    .dataframe thead th {\n",
              "        text-align: right;\n",
              "    }\n",
              "</style>\n",
              "<table border=\"1\" class=\"dataframe\">\n",
              "  <thead>\n",
              "    <tr style=\"text-align: right;\">\n",
              "      <th></th>\n",
              "      <th>age</th>\n",
              "      <th>workclass</th>\n",
              "      <th>fnlwgt</th>\n",
              "      <th>education</th>\n",
              "      <th>education_num</th>\n",
              "      <th>marital_status</th>\n",
              "      <th>occupation</th>\n",
              "      <th>relationship</th>\n",
              "      <th>race</th>\n",
              "      <th>sex</th>\n",
              "      <th>capital_gain</th>\n",
              "      <th>capital_loss</th>\n",
              "      <th>hours_per_week</th>\n",
              "      <th>country</th>\n",
              "      <th>income</th>\n",
              "    </tr>\n",
              "  </thead>\n",
              "  <tbody>\n",
              "    <tr>\n",
              "      <th>0</th>\n",
              "      <td>90</td>\n",
              "      <td>?</td>\n",
              "      <td>77053</td>\n",
              "      <td>HS-grad</td>\n",
              "      <td>9</td>\n",
              "      <td>Widowed</td>\n",
              "      <td>?</td>\n",
              "      <td>Not-in-family</td>\n",
              "      <td>White</td>\n",
              "      <td>Female</td>\n",
              "      <td>0</td>\n",
              "      <td>4356</td>\n",
              "      <td>40</td>\n",
              "      <td>United-States</td>\n",
              "      <td>&lt;=50K</td>\n",
              "    </tr>\n",
              "    <tr>\n",
              "      <th>1</th>\n",
              "      <td>82</td>\n",
              "      <td>Private</td>\n",
              "      <td>132870</td>\n",
              "      <td>HS-grad</td>\n",
              "      <td>9</td>\n",
              "      <td>Widowed</td>\n",
              "      <td>Exec-managerial</td>\n",
              "      <td>Not-in-family</td>\n",
              "      <td>White</td>\n",
              "      <td>Female</td>\n",
              "      <td>0</td>\n",
              "      <td>4356</td>\n",
              "      <td>18</td>\n",
              "      <td>United-States</td>\n",
              "      <td>&lt;=50K</td>\n",
              "    </tr>\n",
              "    <tr>\n",
              "      <th>2</th>\n",
              "      <td>66</td>\n",
              "      <td>?</td>\n",
              "      <td>186061</td>\n",
              "      <td>Some-college</td>\n",
              "      <td>10</td>\n",
              "      <td>Widowed</td>\n",
              "      <td>?</td>\n",
              "      <td>Unmarried</td>\n",
              "      <td>Black</td>\n",
              "      <td>Female</td>\n",
              "      <td>0</td>\n",
              "      <td>4356</td>\n",
              "      <td>40</td>\n",
              "      <td>United-States</td>\n",
              "      <td>&lt;=50K</td>\n",
              "    </tr>\n",
              "    <tr>\n",
              "      <th>3</th>\n",
              "      <td>54</td>\n",
              "      <td>Private</td>\n",
              "      <td>140359</td>\n",
              "      <td>7th-8th</td>\n",
              "      <td>4</td>\n",
              "      <td>Divorced</td>\n",
              "      <td>Machine-op-inspct</td>\n",
              "      <td>Unmarried</td>\n",
              "      <td>White</td>\n",
              "      <td>Female</td>\n",
              "      <td>0</td>\n",
              "      <td>3900</td>\n",
              "      <td>40</td>\n",
              "      <td>United-States</td>\n",
              "      <td>&lt;=50K</td>\n",
              "    </tr>\n",
              "    <tr>\n",
              "      <th>4</th>\n",
              "      <td>41</td>\n",
              "      <td>Private</td>\n",
              "      <td>264663</td>\n",
              "      <td>Some-college</td>\n",
              "      <td>10</td>\n",
              "      <td>Separated</td>\n",
              "      <td>Prof-specialty</td>\n",
              "      <td>Own-child</td>\n",
              "      <td>White</td>\n",
              "      <td>Female</td>\n",
              "      <td>0</td>\n",
              "      <td>3900</td>\n",
              "      <td>40</td>\n",
              "      <td>United-States</td>\n",
              "      <td>&lt;=50K</td>\n",
              "    </tr>\n",
              "    <tr>\n",
              "      <th>...</th>\n",
              "      <td>...</td>\n",
              "      <td>...</td>\n",
              "      <td>...</td>\n",
              "      <td>...</td>\n",
              "      <td>...</td>\n",
              "      <td>...</td>\n",
              "      <td>...</td>\n",
              "      <td>...</td>\n",
              "      <td>...</td>\n",
              "      <td>...</td>\n",
              "      <td>...</td>\n",
              "      <td>...</td>\n",
              "      <td>...</td>\n",
              "      <td>...</td>\n",
              "      <td>...</td>\n",
              "    </tr>\n",
              "    <tr>\n",
              "      <th>32556</th>\n",
              "      <td>22</td>\n",
              "      <td>Private</td>\n",
              "      <td>310152</td>\n",
              "      <td>Some-college</td>\n",
              "      <td>10</td>\n",
              "      <td>Never-married</td>\n",
              "      <td>Protective-serv</td>\n",
              "      <td>Not-in-family</td>\n",
              "      <td>White</td>\n",
              "      <td>Male</td>\n",
              "      <td>0</td>\n",
              "      <td>0</td>\n",
              "      <td>40</td>\n",
              "      <td>United-States</td>\n",
              "      <td>&lt;=50K</td>\n",
              "    </tr>\n",
              "    <tr>\n",
              "      <th>32557</th>\n",
              "      <td>27</td>\n",
              "      <td>Private</td>\n",
              "      <td>257302</td>\n",
              "      <td>Assoc-acdm</td>\n",
              "      <td>12</td>\n",
              "      <td>Married-civ-spouse</td>\n",
              "      <td>Tech-support</td>\n",
              "      <td>Wife</td>\n",
              "      <td>White</td>\n",
              "      <td>Female</td>\n",
              "      <td>0</td>\n",
              "      <td>0</td>\n",
              "      <td>38</td>\n",
              "      <td>United-States</td>\n",
              "      <td>&lt;=50K</td>\n",
              "    </tr>\n",
              "    <tr>\n",
              "      <th>32558</th>\n",
              "      <td>40</td>\n",
              "      <td>Private</td>\n",
              "      <td>154374</td>\n",
              "      <td>HS-grad</td>\n",
              "      <td>9</td>\n",
              "      <td>Married-civ-spouse</td>\n",
              "      <td>Machine-op-inspct</td>\n",
              "      <td>Husband</td>\n",
              "      <td>White</td>\n",
              "      <td>Male</td>\n",
              "      <td>0</td>\n",
              "      <td>0</td>\n",
              "      <td>40</td>\n",
              "      <td>United-States</td>\n",
              "      <td>&gt;50K</td>\n",
              "    </tr>\n",
              "    <tr>\n",
              "      <th>32559</th>\n",
              "      <td>58</td>\n",
              "      <td>Private</td>\n",
              "      <td>151910</td>\n",
              "      <td>HS-grad</td>\n",
              "      <td>9</td>\n",
              "      <td>Widowed</td>\n",
              "      <td>Adm-clerical</td>\n",
              "      <td>Unmarried</td>\n",
              "      <td>White</td>\n",
              "      <td>Female</td>\n",
              "      <td>0</td>\n",
              "      <td>0</td>\n",
              "      <td>40</td>\n",
              "      <td>United-States</td>\n",
              "      <td>&lt;=50K</td>\n",
              "    </tr>\n",
              "    <tr>\n",
              "      <th>32560</th>\n",
              "      <td>22</td>\n",
              "      <td>Private</td>\n",
              "      <td>201490</td>\n",
              "      <td>HS-grad</td>\n",
              "      <td>9</td>\n",
              "      <td>Never-married</td>\n",
              "      <td>Adm-clerical</td>\n",
              "      <td>Own-child</td>\n",
              "      <td>White</td>\n",
              "      <td>Male</td>\n",
              "      <td>0</td>\n",
              "      <td>0</td>\n",
              "      <td>20</td>\n",
              "      <td>United-States</td>\n",
              "      <td>&lt;=50K</td>\n",
              "    </tr>\n",
              "  </tbody>\n",
              "</table>\n",
              "<p>32561 rows × 15 columns</p>\n",
              "</div>"
            ],
            "text/plain": [
              "       age workclass  fnlwgt     education  education_num      marital_status  \\\n",
              "0       90         ?   77053       HS-grad              9             Widowed   \n",
              "1       82   Private  132870       HS-grad              9             Widowed   \n",
              "2       66         ?  186061  Some-college             10             Widowed   \n",
              "3       54   Private  140359       7th-8th              4            Divorced   \n",
              "4       41   Private  264663  Some-college             10           Separated   \n",
              "...    ...       ...     ...           ...            ...                 ...   \n",
              "32556   22   Private  310152  Some-college             10       Never-married   \n",
              "32557   27   Private  257302    Assoc-acdm             12  Married-civ-spouse   \n",
              "32558   40   Private  154374       HS-grad              9  Married-civ-spouse   \n",
              "32559   58   Private  151910       HS-grad              9             Widowed   \n",
              "32560   22   Private  201490       HS-grad              9       Never-married   \n",
              "\n",
              "              occupation   relationship   race     sex  capital_gain  \\\n",
              "0                      ?  Not-in-family  White  Female             0   \n",
              "1        Exec-managerial  Not-in-family  White  Female             0   \n",
              "2                      ?      Unmarried  Black  Female             0   \n",
              "3      Machine-op-inspct      Unmarried  White  Female             0   \n",
              "4         Prof-specialty      Own-child  White  Female             0   \n",
              "...                  ...            ...    ...     ...           ...   \n",
              "32556    Protective-serv  Not-in-family  White    Male             0   \n",
              "32557       Tech-support           Wife  White  Female             0   \n",
              "32558  Machine-op-inspct        Husband  White    Male             0   \n",
              "32559       Adm-clerical      Unmarried  White  Female             0   \n",
              "32560       Adm-clerical      Own-child  White    Male             0   \n",
              "\n",
              "       capital_loss  hours_per_week        country income  \n",
              "0              4356              40  United-States  <=50K  \n",
              "1              4356              18  United-States  <=50K  \n",
              "2              4356              40  United-States  <=50K  \n",
              "3              3900              40  United-States  <=50K  \n",
              "4              3900              40  United-States  <=50K  \n",
              "...             ...             ...            ...    ...  \n",
              "32556             0              40  United-States  <=50K  \n",
              "32557             0              38  United-States  <=50K  \n",
              "32558             0              40  United-States   >50K  \n",
              "32559             0              40  United-States  <=50K  \n",
              "32560             0              20  United-States  <=50K  \n",
              "\n",
              "[32561 rows x 15 columns]"
            ]
          },
          "execution_count": 9,
          "metadata": {},
          "output_type": "execute_result"
        }
      ],
      "source": [
        "data"
      ]
    },
    {
      "cell_type": "code",
      "execution_count": null,
      "id": "bef3cf15",
      "metadata": {
        "id": "bef3cf15"
      },
      "outputs": [],
      "source": [
        "missing_indices = data.query(\"workclass == '?' or occupation =='?' or country == '?'\").index.values"
      ]
    },
    {
      "cell_type": "code",
      "execution_count": null,
      "id": "49d483b9",
      "metadata": {
        "id": "49d483b9"
      },
      "outputs": [],
      "source": [
        "indices = data.index.to_numpy()"
      ]
    },
    {
      "cell_type": "code",
      "execution_count": null,
      "id": "d4c7102a",
      "metadata": {
        "id": "d4c7102a"
      },
      "outputs": [],
      "source": [
        "clean_indices = np.setdiff1d(indices,missing_indices)"
      ]
    },
    {
      "cell_type": "code",
      "execution_count": null,
      "id": "b9cff4ce",
      "metadata": {
        "id": "b9cff4ce"
      },
      "outputs": [],
      "source": [
        "clean_data = data.iloc[clean_indices]"
      ]
    },
    {
      "cell_type": "code",
      "execution_count": null,
      "id": "46ded6c5",
      "metadata": {
        "id": "46ded6c5",
        "outputId": "df2f99fe-5f1c-4527-84dc-6c3938ea11d8"
      },
      "outputs": [
        {
          "data": {
            "text/html": [
              "<div>\n",
              "<style scoped>\n",
              "    .dataframe tbody tr th:only-of-type {\n",
              "        vertical-align: middle;\n",
              "    }\n",
              "\n",
              "    .dataframe tbody tr th {\n",
              "        vertical-align: top;\n",
              "    }\n",
              "\n",
              "    .dataframe thead th {\n",
              "        text-align: right;\n",
              "    }\n",
              "</style>\n",
              "<table border=\"1\" class=\"dataframe\">\n",
              "  <thead>\n",
              "    <tr style=\"text-align: right;\">\n",
              "      <th></th>\n",
              "      <th>age</th>\n",
              "      <th>workclass</th>\n",
              "      <th>fnlwgt</th>\n",
              "      <th>education</th>\n",
              "      <th>education_num</th>\n",
              "      <th>marital_status</th>\n",
              "      <th>occupation</th>\n",
              "      <th>relationship</th>\n",
              "      <th>race</th>\n",
              "      <th>sex</th>\n",
              "      <th>capital_gain</th>\n",
              "      <th>capital_loss</th>\n",
              "      <th>hours_per_week</th>\n",
              "      <th>country</th>\n",
              "      <th>income</th>\n",
              "    </tr>\n",
              "  </thead>\n",
              "  <tbody>\n",
              "    <tr>\n",
              "      <th>1</th>\n",
              "      <td>82</td>\n",
              "      <td>Private</td>\n",
              "      <td>132870</td>\n",
              "      <td>HS-grad</td>\n",
              "      <td>9</td>\n",
              "      <td>Widowed</td>\n",
              "      <td>Exec-managerial</td>\n",
              "      <td>Not-in-family</td>\n",
              "      <td>White</td>\n",
              "      <td>Female</td>\n",
              "      <td>0</td>\n",
              "      <td>4356</td>\n",
              "      <td>18</td>\n",
              "      <td>United-States</td>\n",
              "      <td>&lt;=50K</td>\n",
              "    </tr>\n",
              "    <tr>\n",
              "      <th>3</th>\n",
              "      <td>54</td>\n",
              "      <td>Private</td>\n",
              "      <td>140359</td>\n",
              "      <td>7th-8th</td>\n",
              "      <td>4</td>\n",
              "      <td>Divorced</td>\n",
              "      <td>Machine-op-inspct</td>\n",
              "      <td>Unmarried</td>\n",
              "      <td>White</td>\n",
              "      <td>Female</td>\n",
              "      <td>0</td>\n",
              "      <td>3900</td>\n",
              "      <td>40</td>\n",
              "      <td>United-States</td>\n",
              "      <td>&lt;=50K</td>\n",
              "    </tr>\n",
              "    <tr>\n",
              "      <th>4</th>\n",
              "      <td>41</td>\n",
              "      <td>Private</td>\n",
              "      <td>264663</td>\n",
              "      <td>Some-college</td>\n",
              "      <td>10</td>\n",
              "      <td>Separated</td>\n",
              "      <td>Prof-specialty</td>\n",
              "      <td>Own-child</td>\n",
              "      <td>White</td>\n",
              "      <td>Female</td>\n",
              "      <td>0</td>\n",
              "      <td>3900</td>\n",
              "      <td>40</td>\n",
              "      <td>United-States</td>\n",
              "      <td>&lt;=50K</td>\n",
              "    </tr>\n",
              "    <tr>\n",
              "      <th>5</th>\n",
              "      <td>34</td>\n",
              "      <td>Private</td>\n",
              "      <td>216864</td>\n",
              "      <td>HS-grad</td>\n",
              "      <td>9</td>\n",
              "      <td>Divorced</td>\n",
              "      <td>Other-service</td>\n",
              "      <td>Unmarried</td>\n",
              "      <td>White</td>\n",
              "      <td>Female</td>\n",
              "      <td>0</td>\n",
              "      <td>3770</td>\n",
              "      <td>45</td>\n",
              "      <td>United-States</td>\n",
              "      <td>&lt;=50K</td>\n",
              "    </tr>\n",
              "    <tr>\n",
              "      <th>6</th>\n",
              "      <td>38</td>\n",
              "      <td>Private</td>\n",
              "      <td>150601</td>\n",
              "      <td>10th</td>\n",
              "      <td>6</td>\n",
              "      <td>Separated</td>\n",
              "      <td>Adm-clerical</td>\n",
              "      <td>Unmarried</td>\n",
              "      <td>White</td>\n",
              "      <td>Male</td>\n",
              "      <td>0</td>\n",
              "      <td>3770</td>\n",
              "      <td>40</td>\n",
              "      <td>United-States</td>\n",
              "      <td>&lt;=50K</td>\n",
              "    </tr>\n",
              "  </tbody>\n",
              "</table>\n",
              "</div>"
            ],
            "text/plain": [
              "   age workclass  fnlwgt     education  education_num marital_status  \\\n",
              "1   82   Private  132870       HS-grad              9        Widowed   \n",
              "3   54   Private  140359       7th-8th              4       Divorced   \n",
              "4   41   Private  264663  Some-college             10      Separated   \n",
              "5   34   Private  216864       HS-grad              9       Divorced   \n",
              "6   38   Private  150601          10th              6      Separated   \n",
              "\n",
              "          occupation   relationship   race     sex  capital_gain  \\\n",
              "1    Exec-managerial  Not-in-family  White  Female             0   \n",
              "3  Machine-op-inspct      Unmarried  White  Female             0   \n",
              "4     Prof-specialty      Own-child  White  Female             0   \n",
              "5      Other-service      Unmarried  White  Female             0   \n",
              "6       Adm-clerical      Unmarried  White    Male             0   \n",
              "\n",
              "   capital_loss  hours_per_week        country income  \n",
              "1          4356              18  United-States  <=50K  \n",
              "3          3900              40  United-States  <=50K  \n",
              "4          3900              40  United-States  <=50K  \n",
              "5          3770              45  United-States  <=50K  \n",
              "6          3770              40  United-States  <=50K  "
            ]
          },
          "execution_count": 14,
          "metadata": {},
          "output_type": "execute_result"
        }
      ],
      "source": [
        "clean_data.head()"
      ]
    },
    {
      "cell_type": "code",
      "execution_count": null,
      "id": "b26634f0",
      "metadata": {
        "id": "b26634f0",
        "outputId": "a1e1a8d2-9949-4f67-93bc-9fd53ed0ed75"
      },
      "outputs": [
        {
          "data": {
            "text/plain": [
              "[]"
            ]
          },
          "execution_count": 15,
          "metadata": {},
          "output_type": "execute_result"
        },
        {
          "data": {
            "image/png": "[encoded data removed]",
            "text/plain": [
              "<Figure size 4320x1440 with 1 Axes>"
            ]
          },
          "metadata": {
            "needs_background": "light"
          },
          "output_type": "display_data"
        }
      ],
      "source": [
        "plt.figure(figsize=(60,20))\n",
        "sns.countplot(x='country',hue='income',data=clean_data)\n",
        "plt.plot()"
      ]
    },
    {
      "cell_type": "code",
      "execution_count": null,
      "id": "ebdca3a0",
      "metadata": {
        "id": "ebdca3a0",
        "outputId": "bc75ec3f-4639-44b9-e3a2-906266f29c95"
      },
      "outputs": [
        {
          "data": {
            "text/plain": [
              "[]"
            ]
          },
          "execution_count": 16,
          "metadata": {},
          "output_type": "execute_result"
        },
        {
          "data": {
            "image/png": "[encoded data removed]",
            "text/plain": [
              "<Figure size 4320x1440 with 1 Axes>"
            ]
          },
          "metadata": {
            "needs_background": "light"
          },
          "output_type": "display_data"
        }
      ],
      "source": [
        "plt.figure(figsize=(60,20))\n",
        "sns.countplot(x='education',hue='income',data=clean_data)\n",
        "plt.plot()"
      ]
    },
    {
      "cell_type": "code",
      "execution_count": null,
      "id": "f4deb1c0",
      "metadata": {
        "id": "f4deb1c0",
        "outputId": "c25fac4f-c898-403a-8701-e16d128c0008"
      },
      "outputs": [
        {
          "data": {
            "text/plain": [
              "[]"
            ]
          },
          "execution_count": 17,
          "metadata": {},
          "output_type": "execute_result"
        },
        {
          "data": {
            "image/png": "[encoded data removed]",
            "text/plain": [
              "<Figure size 4320x1440 with 1 Axes>"
            ]
          },
          "metadata": {
            "needs_background": "light"
          },
          "output_type": "display_data"
        }
      ],
      "source": [
        "plt.figure(figsize=(60,20))\n",
        "sns.countplot(x='sex',hue='income',data=clean_data)\n",
        "plt.plot()"
      ]
    },
    {
      "cell_type": "code",
      "execution_count": null,
      "id": "89ed9c28",
      "metadata": {
        "id": "89ed9c28",
        "outputId": "4c5597e0-5a37-45f3-a461-3c3430feb2c9"
      },
      "outputs": [
        {
          "data": {
            "text/plain": [
              "[]"
            ]
          },
          "execution_count": 18,
          "metadata": {},
          "output_type": "execute_result"
        },
        {
          "data": {
            "image/png": "[encoded data removed]",
            "text/plain": [
              "<Figure size 4320x1440 with 1 Axes>"
            ]
          },
          "metadata": {
            "needs_background": "light"
          },
          "output_type": "display_data"
        }
      ],
      "source": [
        "plt.figure(figsize=(60,20))\n",
        "sns.countplot(x='workclass',hue='income',data=clean_data)\n",
        "plt.plot()"
      ]
    },
    {
      "cell_type": "code",
      "execution_count": null,
      "id": "7f9a0e77",
      "metadata": {
        "id": "7f9a0e77",
        "outputId": "30fe251f-f73f-4464-97b4-b2f36dfb8983"
      },
      "outputs": [
        {
          "data": {
            "text/plain": [
              "[]"
            ]
          },
          "execution_count": 19,
          "metadata": {},
          "output_type": "execute_result"
        },
        {
          "data": {
            "image/png": "[encoded data removed]",
            "text/plain": [
              "<Figure size 4320x1440 with 1 Axes>"
            ]
          },
          "metadata": {
            "needs_background": "light"
          },
          "output_type": "display_data"
        }
      ],
      "source": [
        "plt.figure(figsize=(60,20))\n",
        "sns.countplot(x='race',hue='income',data=clean_data)\n",
        "plt.plot()"
      ]
    },
    {
      "cell_type": "code",
      "execution_count": null,
      "id": "424a0db6",
      "metadata": {
        "id": "424a0db6",
        "outputId": "f32de146-6834-4e11-e048-0cb5154117bb"
      },
      "outputs": [
        {
          "data": {
            "text/html": [
              "<div>\n",
              "<style scoped>\n",
              "    .dataframe tbody tr th:only-of-type {\n",
              "        vertical-align: middle;\n",
              "    }\n",
              "\n",
              "    .dataframe tbody tr th {\n",
              "        vertical-align: top;\n",
              "    }\n",
              "\n",
              "    .dataframe thead th {\n",
              "        text-align: right;\n",
              "    }\n",
              "</style>\n",
              "<table border=\"1\" class=\"dataframe\">\n",
              "  <thead>\n",
              "    <tr style=\"text-align: right;\">\n",
              "      <th></th>\n",
              "      <th>age</th>\n",
              "      <th>workclass</th>\n",
              "      <th>fnlwgt</th>\n",
              "      <th>education</th>\n",
              "      <th>education_num</th>\n",
              "      <th>marital_status</th>\n",
              "      <th>occupation</th>\n",
              "      <th>relationship</th>\n",
              "      <th>race</th>\n",
              "      <th>sex</th>\n",
              "      <th>capital_gain</th>\n",
              "      <th>capital_loss</th>\n",
              "      <th>hours_per_week</th>\n",
              "      <th>country</th>\n",
              "      <th>income</th>\n",
              "    </tr>\n",
              "  </thead>\n",
              "  <tbody>\n",
              "    <tr>\n",
              "      <th>1</th>\n",
              "      <td>82</td>\n",
              "      <td>Private</td>\n",
              "      <td>132870</td>\n",
              "      <td>HS-grad</td>\n",
              "      <td>9</td>\n",
              "      <td>Widowed</td>\n",
              "      <td>Exec-managerial</td>\n",
              "      <td>Not-in-family</td>\n",
              "      <td>White</td>\n",
              "      <td>Female</td>\n",
              "      <td>0</td>\n",
              "      <td>4356</td>\n",
              "      <td>18</td>\n",
              "      <td>United-States</td>\n",
              "      <td>&lt;=50K</td>\n",
              "    </tr>\n",
              "    <tr>\n",
              "      <th>3</th>\n",
              "      <td>54</td>\n",
              "      <td>Private</td>\n",
              "      <td>140359</td>\n",
              "      <td>7th-8th</td>\n",
              "      <td>4</td>\n",
              "      <td>Divorced</td>\n",
              "      <td>Machine-op-inspct</td>\n",
              "      <td>Unmarried</td>\n",
              "      <td>White</td>\n",
              "      <td>Female</td>\n",
              "      <td>0</td>\n",
              "      <td>3900</td>\n",
              "      <td>40</td>\n",
              "      <td>United-States</td>\n",
              "      <td>&lt;=50K</td>\n",
              "    </tr>\n",
              "    <tr>\n",
              "      <th>4</th>\n",
              "      <td>41</td>\n",
              "      <td>Private</td>\n",
              "      <td>264663</td>\n",
              "      <td>Some-college</td>\n",
              "      <td>10</td>\n",
              "      <td>Separated</td>\n",
              "      <td>Prof-specialty</td>\n",
              "      <td>Own-child</td>\n",
              "      <td>White</td>\n",
              "      <td>Female</td>\n",
              "      <td>0</td>\n",
              "      <td>3900</td>\n",
              "      <td>40</td>\n",
              "      <td>United-States</td>\n",
              "      <td>&lt;=50K</td>\n",
              "    </tr>\n",
              "    <tr>\n",
              "      <th>5</th>\n",
              "      <td>34</td>\n",
              "      <td>Private</td>\n",
              "      <td>216864</td>\n",
              "      <td>HS-grad</td>\n",
              "      <td>9</td>\n",
              "      <td>Divorced</td>\n",
              "      <td>Other-service</td>\n",
              "      <td>Unmarried</td>\n",
              "      <td>White</td>\n",
              "      <td>Female</td>\n",
              "      <td>0</td>\n",
              "      <td>3770</td>\n",
              "      <td>45</td>\n",
              "      <td>United-States</td>\n",
              "      <td>&lt;=50K</td>\n",
              "    </tr>\n",
              "    <tr>\n",
              "      <th>6</th>\n",
              "      <td>38</td>\n",
              "      <td>Private</td>\n",
              "      <td>150601</td>\n",
              "      <td>10th</td>\n",
              "      <td>6</td>\n",
              "      <td>Separated</td>\n",
              "      <td>Adm-clerical</td>\n",
              "      <td>Unmarried</td>\n",
              "      <td>White</td>\n",
              "      <td>Male</td>\n",
              "      <td>0</td>\n",
              "      <td>3770</td>\n",
              "      <td>40</td>\n",
              "      <td>United-States</td>\n",
              "      <td>&lt;=50K</td>\n",
              "    </tr>\n",
              "  </tbody>\n",
              "</table>\n",
              "</div>"
            ],
            "text/plain": [
              "   age workclass  fnlwgt     education  education_num marital_status  \\\n",
              "1   82   Private  132870       HS-grad              9        Widowed   \n",
              "3   54   Private  140359       7th-8th              4       Divorced   \n",
              "4   41   Private  264663  Some-college             10      Separated   \n",
              "5   34   Private  216864       HS-grad              9       Divorced   \n",
              "6   38   Private  150601          10th              6      Separated   \n",
              "\n",
              "          occupation   relationship   race     sex  capital_gain  \\\n",
              "1    Exec-managerial  Not-in-family  White  Female             0   \n",
              "3  Machine-op-inspct      Unmarried  White  Female             0   \n",
              "4     Prof-specialty      Own-child  White  Female             0   \n",
              "5      Other-service      Unmarried  White  Female             0   \n",
              "6       Adm-clerical      Unmarried  White    Male             0   \n",
              "\n",
              "   capital_loss  hours_per_week        country income  \n",
              "1          4356              18  United-States  <=50K  \n",
              "3          3900              40  United-States  <=50K  \n",
              "4          3900              40  United-States  <=50K  \n",
              "5          3770              45  United-States  <=50K  \n",
              "6          3770              40  United-States  <=50K  "
            ]
          },
          "execution_count": 20,
          "metadata": {},
          "output_type": "execute_result"
        }
      ],
      "source": [
        "clean_data.head()"
      ]
    },
    {
      "cell_type": "code",
      "execution_count": null,
      "id": "ce0f7321",
      "metadata": {
        "id": "ce0f7321",
        "outputId": "71473767-057b-460c-ece4-bb914165417b"
      },
      "outputs": [
        {
          "data": {
            "text/plain": [
              "age                int64\n",
              "workclass         object\n",
              "fnlwgt             int64\n",
              "education         object\n",
              "education_num      int64\n",
              "marital_status    object\n",
              "occupation        object\n",
              "relationship      object\n",
              "race              object\n",
              "sex               object\n",
              "capital_gain       int64\n",
              "capital_loss       int64\n",
              "hours_per_week     int64\n",
              "country           object\n",
              "income            object\n",
              "dtype: object"
            ]
          },
          "execution_count": 21,
          "metadata": {},
          "output_type": "execute_result"
        }
      ],
      "source": [
        "clean_data.dtypes"
      ]
    },
    {
      "cell_type": "code",
      "execution_count": null,
      "id": "2e2a7ba8",
      "metadata": {
        "id": "2e2a7ba8"
      },
      "outputs": [],
      "source": [
        "le = LabelEncoder()"
      ]
    },
    {
      "cell_type": "code",
      "execution_count": null,
      "id": "7cfa94bd",
      "metadata": {
        "id": "7cfa94bd"
      },
      "outputs": [],
      "source": [
        "for col in clean_data.columns:\n",
        "    if clean_data[col].dtypes == 'object':\n",
        "        le = LabelEncoder()\n",
        "        clean_data[col] = le.fit_transform(clean_data[col].astype(str))\n",
        "    elif clean_data[col].dtypes == 'int64':\n",
        "        clean_data[col] = (clean_data[col] - clean_data[col].mean())/clean_data[col].std()"
      ]
    },
    {
      "cell_type": "code",
      "execution_count": null,
      "id": "86567784",
      "metadata": {
        "id": "86567784",
        "outputId": "da085e41-2399-4cee-d583-72cc44caa5a0"
      },
      "outputs": [
        {
          "data": {
            "text/html": [
              "<div>\n",
              "<style scoped>\n",
              "    .dataframe tbody tr th:only-of-type {\n",
              "        vertical-align: middle;\n",
              "    }\n",
              "\n",
              "    .dataframe tbody tr th {\n",
              "        vertical-align: top;\n",
              "    }\n",
              "\n",
              "    .dataframe thead th {\n",
              "        text-align: right;\n",
              "    }\n",
              "</style>\n",
              "<table border=\"1\" class=\"dataframe\">\n",
              "  <thead>\n",
              "    <tr style=\"text-align: right;\">\n",
              "      <th></th>\n",
              "      <th>age</th>\n",
              "      <th>workclass</th>\n",
              "      <th>fnlwgt</th>\n",
              "      <th>education</th>\n",
              "      <th>education_num</th>\n",
              "      <th>marital_status</th>\n",
              "      <th>occupation</th>\n",
              "      <th>relationship</th>\n",
              "      <th>race</th>\n",
              "      <th>sex</th>\n",
              "      <th>capital_gain</th>\n",
              "      <th>capital_loss</th>\n",
              "      <th>hours_per_week</th>\n",
              "      <th>country</th>\n",
              "      <th>income</th>\n",
              "    </tr>\n",
              "  </thead>\n",
              "  <tbody>\n",
              "    <tr>\n",
              "      <th>1</th>\n",
              "      <td>3.316575</td>\n",
              "      <td>2</td>\n",
              "      <td>-0.538781</td>\n",
              "      <td>11</td>\n",
              "      <td>-0.439731</td>\n",
              "      <td>6</td>\n",
              "      <td>3</td>\n",
              "      <td>1</td>\n",
              "      <td>4</td>\n",
              "      <td>0</td>\n",
              "      <td>-0.147442</td>\n",
              "      <td>10.555639</td>\n",
              "      <td>-1.914129</td>\n",
              "      <td>38</td>\n",
              "      <td>0</td>\n",
              "    </tr>\n",
              "    <tr>\n",
              "      <th>3</th>\n",
              "      <td>1.184811</td>\n",
              "      <td>2</td>\n",
              "      <td>-0.467898</td>\n",
              "      <td>5</td>\n",
              "      <td>-2.400519</td>\n",
              "      <td>0</td>\n",
              "      <td>6</td>\n",
              "      <td>4</td>\n",
              "      <td>4</td>\n",
              "      <td>0</td>\n",
              "      <td>-0.147442</td>\n",
              "      <td>9.427759</td>\n",
              "      <td>-0.077733</td>\n",
              "      <td>38</td>\n",
              "      <td>0</td>\n",
              "    </tr>\n",
              "    <tr>\n",
              "      <th>4</th>\n",
              "      <td>0.195064</td>\n",
              "      <td>2</td>\n",
              "      <td>0.708633</td>\n",
              "      <td>15</td>\n",
              "      <td>-0.047573</td>\n",
              "      <td>5</td>\n",
              "      <td>9</td>\n",
              "      <td>3</td>\n",
              "      <td>4</td>\n",
              "      <td>0</td>\n",
              "      <td>-0.147442</td>\n",
              "      <td>9.427759</td>\n",
              "      <td>-0.077733</td>\n",
              "      <td>38</td>\n",
              "      <td>0</td>\n",
              "    </tr>\n",
              "    <tr>\n",
              "      <th>5</th>\n",
              "      <td>-0.337877</td>\n",
              "      <td>2</td>\n",
              "      <td>0.256218</td>\n",
              "      <td>11</td>\n",
              "      <td>-0.439731</td>\n",
              "      <td>0</td>\n",
              "      <td>7</td>\n",
              "      <td>4</td>\n",
              "      <td>4</td>\n",
              "      <td>0</td>\n",
              "      <td>-0.147442</td>\n",
              "      <td>9.106214</td>\n",
              "      <td>0.339630</td>\n",
              "      <td>38</td>\n",
              "      <td>0</td>\n",
              "    </tr>\n",
              "    <tr>\n",
              "      <th>6</th>\n",
              "      <td>-0.033339</td>\n",
              "      <td>2</td>\n",
              "      <td>-0.370958</td>\n",
              "      <td>0</td>\n",
              "      <td>-1.616204</td>\n",
              "      <td>5</td>\n",
              "      <td>0</td>\n",
              "      <td>4</td>\n",
              "      <td>4</td>\n",
              "      <td>1</td>\n",
              "      <td>-0.147442</td>\n",
              "      <td>9.106214</td>\n",
              "      <td>-0.077733</td>\n",
              "      <td>38</td>\n",
              "      <td>0</td>\n",
              "    </tr>\n",
              "    <tr>\n",
              "      <th>...</th>\n",
              "      <td>...</td>\n",
              "      <td>...</td>\n",
              "      <td>...</td>\n",
              "      <td>...</td>\n",
              "      <td>...</td>\n",
              "      <td>...</td>\n",
              "      <td>...</td>\n",
              "      <td>...</td>\n",
              "      <td>...</td>\n",
              "      <td>...</td>\n",
              "      <td>...</td>\n",
              "      <td>...</td>\n",
              "      <td>...</td>\n",
              "      <td>...</td>\n",
              "      <td>...</td>\n",
              "    </tr>\n",
              "    <tr>\n",
              "      <th>32556</th>\n",
              "      <td>-1.251490</td>\n",
              "      <td>2</td>\n",
              "      <td>1.139184</td>\n",
              "      <td>15</td>\n",
              "      <td>-0.047573</td>\n",
              "      <td>4</td>\n",
              "      <td>10</td>\n",
              "      <td>1</td>\n",
              "      <td>4</td>\n",
              "      <td>1</td>\n",
              "      <td>-0.147442</td>\n",
              "      <td>-0.218582</td>\n",
              "      <td>-0.077733</td>\n",
              "      <td>38</td>\n",
              "      <td>0</td>\n",
              "    </tr>\n",
              "    <tr>\n",
              "      <th>32557</th>\n",
              "      <td>-0.870818</td>\n",
              "      <td>2</td>\n",
              "      <td>0.638961</td>\n",
              "      <td>7</td>\n",
              "      <td>0.736742</td>\n",
              "      <td>2</td>\n",
              "      <td>12</td>\n",
              "      <td>5</td>\n",
              "      <td>4</td>\n",
              "      <td>0</td>\n",
              "      <td>-0.147442</td>\n",
              "      <td>-0.218582</td>\n",
              "      <td>-0.244678</td>\n",
              "      <td>38</td>\n",
              "      <td>0</td>\n",
              "    </tr>\n",
              "    <tr>\n",
              "      <th>32558</th>\n",
              "      <td>0.118929</td>\n",
              "      <td>2</td>\n",
              "      <td>-0.335247</td>\n",
              "      <td>11</td>\n",
              "      <td>-0.439731</td>\n",
              "      <td>2</td>\n",
              "      <td>6</td>\n",
              "      <td>0</td>\n",
              "      <td>4</td>\n",
              "      <td>1</td>\n",
              "      <td>-0.147442</td>\n",
              "      <td>-0.218582</td>\n",
              "      <td>-0.077733</td>\n",
              "      <td>38</td>\n",
              "      <td>1</td>\n",
              "    </tr>\n",
              "    <tr>\n",
              "      <th>32559</th>\n",
              "      <td>1.489349</td>\n",
              "      <td>2</td>\n",
              "      <td>-0.358569</td>\n",
              "      <td>11</td>\n",
              "      <td>-0.439731</td>\n",
              "      <td>6</td>\n",
              "      <td>0</td>\n",
              "      <td>4</td>\n",
              "      <td>4</td>\n",
              "      <td>0</td>\n",
              "      <td>-0.147442</td>\n",
              "      <td>-0.218582</td>\n",
              "      <td>-0.077733</td>\n",
              "      <td>38</td>\n",
              "      <td>0</td>\n",
              "    </tr>\n",
              "    <tr>\n",
              "      <th>32560</th>\n",
              "      <td>-1.251490</td>\n",
              "      <td>2</td>\n",
              "      <td>0.110704</td>\n",
              "      <td>11</td>\n",
              "      <td>-0.439731</td>\n",
              "      <td>4</td>\n",
              "      <td>0</td>\n",
              "      <td>3</td>\n",
              "      <td>4</td>\n",
              "      <td>1</td>\n",
              "      <td>-0.147442</td>\n",
              "      <td>-0.218582</td>\n",
              "      <td>-1.747184</td>\n",
              "      <td>38</td>\n",
              "      <td>0</td>\n",
              "    </tr>\n",
              "  </tbody>\n",
              "</table>\n",
              "<p>30162 rows × 15 columns</p>\n",
              "</div>"
            ],
            "text/plain": [
              "            age  workclass    fnlwgt  education  education_num  \\\n",
              "1      3.316575          2 -0.538781         11      -0.439731   \n",
              "3      1.184811          2 -0.467898          5      -2.400519   \n",
              "4      0.195064          2  0.708633         15      -0.047573   \n",
              "5     -0.337877          2  0.256218         11      -0.439731   \n",
              "6     -0.033339          2 -0.370958          0      -1.616204   \n",
              "...         ...        ...       ...        ...            ...   \n",
              "32556 -1.251490          2  1.139184         15      -0.047573   \n",
              "32557 -0.870818          2  0.638961          7       0.736742   \n",
              "32558  0.118929          2 -0.335247         11      -0.439731   \n",
              "32559  1.489349          2 -0.358569         11      -0.439731   \n",
              "32560 -1.251490          2  0.110704         11      -0.439731   \n",
              "\n",
              "       marital_status  occupation  relationship  race  sex  capital_gain  \\\n",
              "1                   6           3             1     4    0     -0.147442   \n",
              "3                   0           6             4     4    0     -0.147442   \n",
              "4                   5           9             3     4    0     -0.147442   \n",
              "5                   0           7             4     4    0     -0.147442   \n",
              "6                   5           0             4     4    1     -0.147442   \n",
              "...               ...         ...           ...   ...  ...           ...   \n",
              "32556               4          10             1     4    1     -0.147442   \n",
              "32557               2          12             5     4    0     -0.147442   \n",
              "32558               2           6             0     4    1     -0.147442   \n",
              "32559               6           0             4     4    0     -0.147442   \n",
              "32560               4           0             3     4    1     -0.147442   \n",
              "\n",
              "       capital_loss  hours_per_week  country  income  \n",
              "1         10.555639       -1.914129       38       0  \n",
              "3          9.427759       -0.077733       38       0  \n",
              "4          9.427759       -0.077733       38       0  \n",
              "5          9.106214        0.339630       38       0  \n",
              "6          9.106214       -0.077733       38       0  \n",
              "...             ...             ...      ...     ...  \n",
              "32556     -0.218582       -0.077733       38       0  \n",
              "32557     -0.218582       -0.244678       38       0  \n",
              "32558     -0.218582       -0.077733       38       1  \n",
              "32559     -0.218582       -0.077733       38       0  \n",
              "32560     -0.218582       -1.747184       38       0  \n",
              "\n",
              "[30162 rows x 15 columns]"
            ]
          },
          "execution_count": 24,
          "metadata": {},
          "output_type": "execute_result"
        }
      ],
      "source": [
        "clean_data"
      ]
    },
    {
      "cell_type": "code",
      "execution_count": null,
      "id": "c81ad95f",
      "metadata": {
        "id": "c81ad95f",
        "outputId": "d0a91263-6c2b-4f5f-875a-67e07718a6ca"
      },
      "outputs": [
        {
          "data": {
            "image/png": "[encoded data removed]",
            "text/plain": [
              "<Figure size 1440x1080 with 2 Axes>"
            ]
          },
          "metadata": {
            "needs_background": "light"
          },
          "output_type": "display_data"
        }
      ],
      "source": [
        "plt.subplots(figsize=(20,15))\n",
        "sns.heatmap(clean_data.corr(), annot=True, cmap=\"nipy_spectral\")\n",
        "plt.show()"
      ]
    },
    {
      "cell_type": "code",
      "execution_count": null,
      "id": "fd709d66",
      "metadata": {
        "id": "fd709d66",
        "outputId": "73d7cf76-809a-4b98-ae4a-5ba00e14e5c5"
      },
      "outputs": [
        {
          "data": {
            "text/plain": [
              "age               float64\n",
              "workclass           int64\n",
              "fnlwgt            float64\n",
              "education           int64\n",
              "education_num     float64\n",
              "marital_status      int64\n",
              "occupation          int64\n",
              "relationship        int64\n",
              "race                int64\n",
              "sex                 int64\n",
              "capital_gain      float64\n",
              "capital_loss      float64\n",
              "hours_per_week    float64\n",
              "country             int64\n",
              "income              int64\n",
              "dtype: object"
            ]
          },
          "execution_count": 26,
          "metadata": {},
          "output_type": "execute_result"
        }
      ],
      "source": [
        "clean_data.dtypes"
      ]
    },
    {
      "cell_type": "code",
      "execution_count": null,
      "id": "d7033fd0",
      "metadata": {
        "id": "d7033fd0"
      },
      "outputs": [],
      "source": [
        "y = clean_data['income']\n",
        "X = clean_data.drop(columns=['income'],axis=1)"
      ]
    },
    {
      "cell_type": "code",
      "execution_count": null,
      "id": "31c03346",
      "metadata": {
        "id": "31c03346"
      },
      "outputs": [],
      "source": [
        "X_train, X_test, y_train, y_test = train_test_split(X, y, test_size=0.2, stratify=y,random_state=STATE)"
      ]
    },
    {
      "cell_type": "markdown",
      "id": "f519c4d0",
      "metadata": {
        "id": "f519c4d0"
      },
      "source": [
        "# Neural Networks"
      ]
    },
    {
      "cell_type": "markdown",
      "id": "c6dadfdb",
      "metadata": {
        "id": "c6dadfdb"
      },
      "source": [
        "## Installs and imports"
      ]
    },
    {
      "cell_type": "code",
      "execution_count": null,
      "id": "052681d2",
      "metadata": {
        "id": "052681d2",
        "outputId": "60a5a09b-4d9a-4cbb-cde0-2578159d4ed8"
      },
      "outputs": [
        {
          "name": "stdout",
          "output_type": "stream",
          "text": [
            "Requirement already satisfied: torch in /Users/saichandra/opt/anaconda3/lib/python3.8/site-packages (1.10.0)\r\n",
            "Requirement already satisfied: typing_extensions in /Users/saichandra/opt/anaconda3/lib/python3.8/site-packages (from torch) (3.7.4.3)\r\n"
          ]
        }
      ],
      "source": [
        "!pip install torch"
      ]
    },
    {
      "cell_type": "code",
      "execution_count": null,
      "id": "301db2a6",
      "metadata": {
        "id": "301db2a6",
        "outputId": "718d798a-6741-47d1-fdeb-a76c32e99266"
      },
      "outputs": [
        {
          "name": "stdout",
          "output_type": "stream",
          "text": [
            "Requirement already satisfied: torchmetrics in /Users/saichandra/opt/anaconda3/lib/python3.8/site-packages (0.7.3)\n",
            "Requirement already satisfied: packaging in /Users/saichandra/opt/anaconda3/lib/python3.8/site-packages (from torchmetrics) (20.9)\n",
            "Requirement already satisfied: numpy>=1.17.2 in /Users/saichandra/opt/anaconda3/lib/python3.8/site-packages (from torchmetrics) (1.22.3)\n",
            "Requirement already satisfied: pyDeprecate==0.3.* in /Users/saichandra/opt/anaconda3/lib/python3.8/site-packages (from torchmetrics) (0.3.2)\n",
            "Requirement already satisfied: torch>=1.3.1 in /Users/saichandra/opt/anaconda3/lib/python3.8/site-packages (from torchmetrics) (1.10.0)\n",
            "Requirement already satisfied: typing_extensions in /Users/saichandra/opt/anaconda3/lib/python3.8/site-packages (from torch>=1.3.1->torchmetrics) (3.7.4.3)\n",
            "Requirement already satisfied: pyparsing>=2.0.2 in /Users/saichandra/opt/anaconda3/lib/python3.8/site-packages (from packaging->torchmetrics) (2.4.7)\n"
          ]
        }
      ],
      "source": [
        "!pip install torchmetrics"
      ]
    },
    {
      "cell_type": "code",
      "execution_count": null,
      "id": "d5224944",
      "metadata": {
        "id": "d5224944"
      },
      "outputs": [],
      "source": [
        "import torch\n",
        "from torch.utils.data import Dataset,DataLoader\n",
        "\n",
        "import torch.nn as nn\n",
        "import torch.nn.functional as F\n",
        "import torchmetrics\n",
        "from collections import OrderedDict\n",
        "\n",
        "from tqdm import tqdm\n",
        "import matplotlib.pyplot as plt"
      ]
    },
    {
      "cell_type": "markdown",
      "id": "be8d5608",
      "metadata": {
        "id": "be8d5608"
      },
      "source": [
        "## Constants"
      ]
    },
    {
      "cell_type": "code",
      "execution_count": null,
      "id": "966c4bd1",
      "metadata": {
        "id": "966c4bd1"
      },
      "outputs": [],
      "source": [
        "BATCH_SIZE = 8\n",
        "WORKERS = 4"
      ]
    },
    {
      "cell_type": "code",
      "execution_count": null,
      "id": "80ae79fa",
      "metadata": {
        "id": "80ae79fa"
      },
      "outputs": [],
      "source": [
        "class IncomeDataSet(Dataset):\n",
        "    def __init__(self,x,y):\n",
        "        x = x.to_numpy()\n",
        "        y = y.to_numpy()\n",
        "        \n",
        "        self.x = torch.tensor(x,dtype=torch.float)\n",
        "        self.y = torch.tensor(y,dtype=torch.long)\n",
        "        self.n_samples = x.shape[0]\n",
        "    \n",
        "    def __getitem__(self,index):\n",
        "        return self.x[index],self.y[index]\n",
        "    \n",
        "    def __len__(self):\n",
        "        return self.n_samples"
      ]
    },
    {
      "cell_type": "code",
      "execution_count": null,
      "id": "288dd586",
      "metadata": {
        "id": "288dd586"
      },
      "outputs": [],
      "source": [
        "train_dataset = IncomeDataSet(X_train, y_train)\n",
        "test_dataset = IncomeDataSet(X_test, y_test)"
      ]
    },
    {
      "cell_type": "code",
      "execution_count": null,
      "id": "1b4d1c81",
      "metadata": {
        "id": "1b4d1c81"
      },
      "outputs": [],
      "source": [
        "train_loader = DataLoader(dataset=train_dataset,batch_size = BATCH_SIZE, shuffle = True)\n",
        "test_loader  = DataLoader(dataset=test_dataset, batch_size = BATCH_SIZE, shuffle = True)"
      ]
    },
    {
      "cell_type": "code",
      "execution_count": null,
      "id": "b8b0d538",
      "metadata": {
        "id": "b8b0d538"
      },
      "outputs": [],
      "source": [
        "train_iterator = iter(train_loader)"
      ]
    },
    {
      "cell_type": "code",
      "execution_count": null,
      "id": "5732e9cf",
      "metadata": {
        "id": "5732e9cf",
        "outputId": "e024d8ed-f945-4d83-d327-ce5331726a8c"
      },
      "outputs": [
        {
          "data": {
            "text/plain": [
              "[tensor([[-0.2617,  4.0000, -0.4632, 11.0000, -0.4397,  2.0000,  2.0000,  0.0000,\n",
              "           4.0000,  1.0000, -0.1474, -0.2186, -0.0777, 38.0000],\n",
              "         [-1.5560,  3.0000, -1.4338,  1.0000, -1.2240,  4.0000,  4.0000,  3.0000,\n",
              "           4.0000,  1.0000, -0.1474, -0.2186, -0.9125, 38.0000],\n",
              "         [-0.2617,  2.0000,  0.9252, 15.0000, -0.0476,  2.0000, 11.0000,  0.0000,\n",
              "           4.0000,  1.0000, -0.1474, -0.2186,  1.1744, 38.0000],\n",
              "         [-1.1754,  2.0000,  0.8285, 15.0000, -0.0476,  4.0000,  5.0000,  3.0000,\n",
              "           4.0000,  1.0000, -0.1474, -0.2186, -0.7455,  4.0000],\n",
              "         [ 0.1951,  1.0000,  0.1937, 12.0000,  1.5211,  4.0000,  9.0000,  1.0000,\n",
              "           2.0000,  0.0000, -0.1474, -0.2186, -0.0777, 38.0000],\n",
              "         [-1.2515,  2.0000, -0.5019, 11.0000, -0.4397,  2.0000,  2.0000,  0.0000,\n",
              "           4.0000,  1.0000, -0.1474, -0.2186, -0.9125, 38.0000],\n",
              "         [-0.5663,  2.0000, -0.0639, 12.0000,  1.5211,  2.0000,  3.0000,  0.0000,\n",
              "           4.0000,  1.0000, -0.1474,  4.6714,  0.5900, 38.0000],\n",
              "         [ 0.2712,  5.0000,  0.1156, 15.0000, -0.0476,  4.0000,  3.0000,  1.0000,\n",
              "           4.0000,  0.0000, -0.1474, -0.2186, -0.0777, 38.0000]]),\n",
              " tensor([0, 0, 1, 0, 0, 0, 1, 0])]"
            ]
          },
          "execution_count": 37,
          "metadata": {},
          "output_type": "execute_result"
        }
      ],
      "source": [
        "train_iterator.next()"
      ]
    },
    {
      "cell_type": "markdown",
      "id": "1c68caca",
      "metadata": {
        "id": "1c68caca"
      },
      "source": [
        "## Network training and testing"
      ]
    },
    {
      "cell_type": "code",
      "execution_count": null,
      "id": "ce9b1989",
      "metadata": {
        "id": "ce9b1989"
      },
      "outputs": [],
      "source": [
        "#https://pytorch.org/docs/stable/generated/torch.nn.Linear.html\n",
        "\n",
        "class Network(nn.Module):\n",
        "    def __init__(self,n_input_features):\n",
        "        super().__init__()\n",
        "        self.n_input_features = n_input_features\n",
        "        self.network_loss = []\n",
        "        self.network_accuracy = []\n",
        "        \n",
        "        self.model = nn.Sequential(OrderedDict([\n",
        "          ('Linear1', nn.Linear(n_input_features,2)),\n",
        "          ('Sigmoid', nn.Sigmoid())\n",
        "        ]))\n",
        "        \n",
        "    def forward(self,x):\n",
        "        model_output = self.model(x.reshape(-1,self.n_input_features))\n",
        "        return model_output\n",
        "    \n",
        "    def model_output(self, inputs):\n",
        "        y_predicted = self.model(inputs)\n",
        "        return y_predicted \n",
        "    \n",
        "    def loss_function(self,predictions,labels):\n",
        "        loss_fn = F.cross_entropy\n",
        "        loss = loss_fn(predictions,labels)\n",
        "        return loss\n",
        "    \n",
        "    def accuracy(self,predictions,labels):\n",
        "        metric = torchmetrics.Accuracy()\n",
        "        acc = metric(predictions,labels)\n",
        "        return acc\n",
        "    \n",
        "    def train(self,num_epochs = 20,lr = 0.001):\n",
        "        optimizer = torch.optim.SGD(self.model.parameters(), lr)    \n",
        "        loop = tqdm(enumerate(range(num_epochs)),total=num_epochs)\n",
        "        \n",
        "        # Training loop\n",
        "        for _,epoch in loop:\n",
        "            batch_loss = []\n",
        "            batch_acc = []\n",
        "            for batch_idx,(inputs,labels) in enumerate(train_loader):\n",
        "                y_predicted = self.model_output(inputs)\n",
        "                labels = labels.reshape(-1)\n",
        "                \n",
        "                # Loss Metrics\n",
        "                loss = self.loss_function(y_predicted,labels)\n",
        "                batch_loss.append(loss.item())\n",
        "                \n",
        "                # Accuracy metrics\n",
        "                acc = self.accuracy(y_predicted,labels)\n",
        "                batch_acc.append(acc.item())\n",
        "                \n",
        "                # Back propogation\n",
        "                loss.backward()\n",
        "                optimizer.step()\n",
        "                optimizer.zero_grad()\n",
        "            mean_batch_loss = np.mean(batch_loss)\n",
        "            mean_batch_acc = np.mean(batch_acc)*100\n",
        "            \n",
        "            self.network_loss.append(mean_batch_loss)\n",
        "            self.network_accuracy.append(mean_batch_acc)\n",
        "            \n",
        "            loop.set_description(f\"Epoch [{epoch+1}/{num_epochs}]\")\n",
        "            loop.set_postfix(loss = mean_batch_loss,accuracy = mean_batch_acc)   \n",
        "            \n",
        "    def test(self):\n",
        "        batch_loss = []\n",
        "        batch_acc = []\n",
        "        for inputs,labels in test_loader:\n",
        "            y_predicted = self.model_output(inputs)\n",
        "            labels = labels.reshape(-1)\n",
        "            \n",
        "            # Loss Metrics\n",
        "            loss = self.loss_function(y_predicted,labels)\n",
        "            batch_loss.append(loss.item())\n",
        "                \n",
        "            # Accuracy metrics\n",
        "            acc = self.accuracy(y_predicted,labels)\n",
        "            batch_acc.append(acc.item())\n",
        "        print(f'Testing Accuracy is {np.mean(batch_acc)*100}%')\n",
        "     \n",
        "    def plot(self):\n",
        "        #plt.plot(self.network_accuracy)\n",
        "        #plt.show()\n",
        "        pass"
      ]
    },
    {
      "cell_type": "code",
      "execution_count": null,
      "id": "809b85fe",
      "metadata": {
        "id": "809b85fe"
      },
      "outputs": [],
      "source": [
        "input_shape = train_dataset[0][0].shape[0]\n",
        "network = Network(input_shape)"
      ]
    },
    {
      "cell_type": "code",
      "execution_count": null,
      "id": "0f3d6e6f",
      "metadata": {
        "id": "0f3d6e6f",
        "outputId": "0ed90ad8-c7b7-44eb-df28-f57bd892926b"
      },
      "outputs": [
        {
          "name": "stderr",
          "output_type": "stream",
          "text": [
            "Epoch [50/50]: 100%|█| 50/50 [04:00<00:00,  4.81s/it, accuracy=75.1, loss=0.562]\n"
          ]
        }
      ],
      "source": [
        "network.train(50,0.001)"
      ]
    },
    {
      "cell_type": "code",
      "execution_count": null,
      "id": "785b7e5b",
      "metadata": {
        "id": "785b7e5b",
        "outputId": "12a1d5bc-d896-43c5-8d84-d6ac8270d898"
      },
      "outputs": [
        {
          "name": "stdout",
          "output_type": "stream",
          "text": [
            "Testing Accuracy is 75.13245033112584%\n"
          ]
        }
      ],
      "source": [
        "network.test()"
      ]
    },
    {
      "cell_type": "code",
      "execution_count": null,
      "id": "b0842508",
      "metadata": {
        "id": "b0842508"
      },
      "outputs": [],
      "source": [
        ""
      ]
    }
  ],
  "metadata": {
    "kernelspec": {
      "display_name": "Python 3 (ipykernel)",
      "language": "python",
      "name": "python3"
    },
    "language_info": {
      "codemirror_mode": {
        "name": "ipython",
        "version": 3
      },
      "file_extension": ".py",
      "mimetype": "text/x-python",
      "name": "python",
      "nbconvert_exporter": "python",
      "pygments_lexer": "ipython3",
      "version": "3.8.8"
    },
    "toc": {
      "base_numbering": 1,
      "nav_menu": {},
      "number_sections": true,
      "sideBar": true,
      "skip_h1_title": false,
      "title_cell": "Table of Contents",
      "title_sidebar": "Contents",
      "toc_cell": false,
      "toc_position": {
        "height": "calc(100% - 180px)",
        "left": "10px",
        "top": "150px",
        "width": "202.59375px"
      },
      "toc_section_display": true,
      "toc_window_display": true
    },
    "colab": {
      "name": "solution.ipynb",
      "provenance": [],
      "include_colab_link": true
    }
  },
  "nbformat": 4,
  "nbformat_minor": 5
}